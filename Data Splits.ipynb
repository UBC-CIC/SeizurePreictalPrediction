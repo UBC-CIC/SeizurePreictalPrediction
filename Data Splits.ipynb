{
 "cells": [
  {
   "cell_type": "code",
   "execution_count": 20,
   "id": "9f462ae3",
   "metadata": {},
   "outputs": [],
   "source": [
    "from preprocessing.file_types.edf_preprocess import EDFFiles\n",
    "import numpy as np\n",
    "import pandas as pd\n",
    "import re\n",
    "import os\n",
    "from tqdm import tqdm"
   ]
  },
  {
   "cell_type": "code",
   "execution_count": 33,
   "id": "cf59986e",
   "metadata": {},
   "outputs": [],
   "source": [
    "def create_dataset(ecg_npy_array, seizure_start_seconds, seizure_end_seconds, idx):\n",
    "    seizure_start_seconds = int(np.absolute(seizure_start_seconds))\n",
    "    seizure_end_seconds = int(np.absolute(seizure_end_seconds))\n",
    "    preictal = 0\n",
    "    non_preictal = []\n",
    "    # If seizure starts before 2400 seconds have elapsed, take everything upto when the seizure starts\n",
    "    #For non-preictal data, if seizure starts within 2400 seconds, only take from seizure end: experiment end\n",
    "    if seizure_start_seconds < 40*60: # 40 minutes * 60 seconds\n",
    "        preictal = ecg_npy_array[:seizure_start_seconds*512]\n",
    "        non_preictal.append(ecg_npy_array[seizure_end_seconds*512:len(ecg_npy_array)])\n",
    "        \n",
    "    # Else, if seizure starts after 2400 seconds, take seizure_start - 2400 upto seizure_start\n",
    "    # For non-preictal data, take 0:seizure_start-2400 and seizure_end:experiment_end\n",
    "    elif seizure_start_seconds > 40*60:\n",
    "        preictal = ecg_npy_array[seizure_start_seconds*512-2400 : seizure_start_seconds*512]\n",
    "        non_preictal.append(ecg_npy_array[:seizure_start_seconds*512-2400])\n",
    "        non_preictal.append(ecg_npy_array[seizure_end_seconds*512:len(ecg_npy_array)])\n",
    "        \n",
    "    #Store data\n",
    "    path_idx = 1\n",
    "    save_path_preictal = os.path.join(\"D:/PacificAutism/data/dataset/preictal/\", str(idx)+'.npy')\n",
    "    # Store preictal data\n",
    "    np.save(save_path_preictal, preictal)\n",
    "    # Store non-preictal data\n",
    "    for n_preictal in non_preictal:\n",
    "        save_path_non_preictal = os.path.join(\"D:/PacificAutism/data/dataset/non_preictal/\", str(idx)+'_'+str(path_idx)+'.npy')\n",
    "        np.save(save_path_non_preictal, n_preictal)\n",
    "        path_idx += 1"
   ]
  },
  {
   "cell_type": "code",
   "execution_count": 34,
   "id": "39ee9bd9",
   "metadata": {},
   "outputs": [
    {
     "name": "stderr",
     "output_type": "stream",
     "text": [
      "100%|██████████████████████████████████████████████████████████████████████████████████| 29/29 [00:30<00:00,  1.06s/it]\n"
     ]
    }
   ],
   "source": [
    "ecg_data_path = r'D:/PacificAutism/data/Patient_ECG_signals'\n",
    "seizure_start_path = r'D:/PacificAutism/data/Patient_dict/seizure_start_seconds.pkl'\n",
    "seizure_start = pd.read_pickle(seizure_start_path)\n",
    "seizure_end_path = r'D:/PacificAutism/data/Patient_dict/seizure_end_seconds.pkl'\n",
    "seizure_end = pd.read_pickle(seizure_end_path)\n",
    "\n",
    "save_idx = 0\n",
    "for patient_ecg_data_path in tqdm(os.listdir(ecg_data_path)):\n",
    "    this_ecg_data = np.load(os.path.join(ecg_data_path, patient_ecg_data_path))\n",
    "    if '_' in patient_ecg_data_path:\n",
    "        patient_name = patient_ecg_data_path.split('_')[0]\n",
    "        patient_idx = int(re.findall(r'\\d+', patient_ecg_data_path.split('_')[1].split('.')[0])[0]) - 1\n",
    "    else:\n",
    "        patient_name = patient_ecg_data_path.split('.')[0]\n",
    "        patient_idx = 0\n",
    "\n",
    "    create_dataset(\n",
    "        ecg_npy_array=this_ecg_data, \n",
    "        seizure_start_seconds=seizure_start[patient_name][patient_idx], \n",
    "        seizure_end_seconds=seizure_end[patient_name][patient_idx],\n",
    "        idx=save_idx\n",
    "    )\n",
    "    save_idx += 1"
   ]
  },
  {
   "cell_type": "code",
   "execution_count": 46,
   "id": "b67c3bb8",
   "metadata": {},
   "outputs": [
    {
     "data": {
      "text/plain": [
       "2400"
      ]
     },
     "execution_count": 46,
     "metadata": {},
     "output_type": "execute_result"
    }
   ],
   "source": [
    "path = r\"D:/PacificAutism/data/dataset/preictal/10.npy\"\n",
    "\n",
    "len(np.load(path))"
   ]
  }
 ],
 "metadata": {
  "kernelspec": {
   "display_name": "Python 3",
   "language": "python",
   "name": "python3"
  },
  "language_info": {
   "codemirror_mode": {
    "name": "ipython",
    "version": 3
   },
   "file_extension": ".py",
   "mimetype": "text/x-python",
   "name": "python",
   "nbconvert_exporter": "python",
   "pygments_lexer": "ipython3",
   "version": "3.8.3"
  }
 },
 "nbformat": 4,
 "nbformat_minor": 5
}
